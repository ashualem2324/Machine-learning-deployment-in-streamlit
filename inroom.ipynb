{
 "cells": [
  {
   "cell_type": "code",
   "execution_count": 22,
   "id": "f4f2461c-591d-4899-885e-dfdc4c03ffcf",
   "metadata": {},
   "outputs": [],
   "source": [
    "import pandas as pd\n",
    "import numpy as np\n",
    "import matplotlib.pyplot as plt\n",
    "import seaborn as sns\n",
    "from sklearn import datasets, svm, metrics\n",
    "from sklearn.model_selection import train_test_split\n",
    "from sklearn.neural_network import MLPClassifier\n",
    "from sklearn.metrics import classification_report,confusion_matrix\n",
    "from sklearn.metrics import roc_auc_score\n",
    "from sklearn.metrics import roc_curve\n",
    "from sklearn.linear_model import LogisticRegression\n",
    "from sklearn.tree import DecisionTreeClassifier\n",
    "from sklearn.ensemble import RandomForestClassifier\n",
    "from sklearn.neighbors import KNeighborsClassifier\n",
    "from sklearn.naive_bayes import GaussianNB\n",
    "from sklearn.svm import SVC\n",
    "from sklearn.ensemble import GradientBoostingClassifier\n",
    "import warnings\n",
    "warnings.filterwarnings(\"ignore\")\n"
   ]
  },
  {
   "cell_type": "code",
   "execution_count": 23,
   "id": "a114cc8e-19d2-4f30-9122-dbd6db52aa72",
   "metadata": {},
   "outputs": [
    {
     "data": {
      "text/html": [
       "<div>\n",
       "<style scoped>\n",
       "    .dataframe tbody tr th:only-of-type {\n",
       "        vertical-align: middle;\n",
       "    }\n",
       "\n",
       "    .dataframe tbody tr th {\n",
       "        vertical-align: top;\n",
       "    }\n",
       "\n",
       "    .dataframe thead th {\n",
       "        text-align: right;\n",
       "    }\n",
       "</style>\n",
       "<table border=\"1\" class=\"dataframe\">\n",
       "  <thead>\n",
       "    <tr style=\"text-align: right;\">\n",
       "      <th></th>\n",
       "      <th>date</th>\n",
       "      <th>Temperature</th>\n",
       "      <th>Humidity</th>\n",
       "      <th>Light</th>\n",
       "      <th>CO2</th>\n",
       "      <th>HumidityRatio</th>\n",
       "      <th>Occupancy</th>\n",
       "    </tr>\n",
       "  </thead>\n",
       "  <tbody>\n",
       "    <tr>\n",
       "      <th>0</th>\n",
       "      <td>2015-02-02 14:19:00</td>\n",
       "      <td>23.7000</td>\n",
       "      <td>26.272</td>\n",
       "      <td>585.200000</td>\n",
       "      <td>749.200000</td>\n",
       "      <td>0.004764</td>\n",
       "      <td>1</td>\n",
       "    </tr>\n",
       "    <tr>\n",
       "      <th>1</th>\n",
       "      <td>2015-02-02 14:19:59</td>\n",
       "      <td>23.7180</td>\n",
       "      <td>26.290</td>\n",
       "      <td>578.400000</td>\n",
       "      <td>760.400000</td>\n",
       "      <td>0.004773</td>\n",
       "      <td>1</td>\n",
       "    </tr>\n",
       "    <tr>\n",
       "      <th>2</th>\n",
       "      <td>2015-02-02 14:21:00</td>\n",
       "      <td>23.7300</td>\n",
       "      <td>26.230</td>\n",
       "      <td>572.666667</td>\n",
       "      <td>769.666667</td>\n",
       "      <td>0.004765</td>\n",
       "      <td>1</td>\n",
       "    </tr>\n",
       "    <tr>\n",
       "      <th>3</th>\n",
       "      <td>2015-02-02 14:22:00</td>\n",
       "      <td>23.7225</td>\n",
       "      <td>26.125</td>\n",
       "      <td>493.750000</td>\n",
       "      <td>774.750000</td>\n",
       "      <td>0.004744</td>\n",
       "      <td>1</td>\n",
       "    </tr>\n",
       "    <tr>\n",
       "      <th>4</th>\n",
       "      <td>2015-02-02 14:23:00</td>\n",
       "      <td>23.7540</td>\n",
       "      <td>26.200</td>\n",
       "      <td>488.600000</td>\n",
       "      <td>779.000000</td>\n",
       "      <td>0.004767</td>\n",
       "      <td>1</td>\n",
       "    </tr>\n",
       "  </tbody>\n",
       "</table>\n",
       "</div>"
      ],
      "text/plain": [
       "                  date  Temperature  Humidity       Light         CO2  \\\n",
       "0  2015-02-02 14:19:00      23.7000    26.272  585.200000  749.200000   \n",
       "1  2015-02-02 14:19:59      23.7180    26.290  578.400000  760.400000   \n",
       "2  2015-02-02 14:21:00      23.7300    26.230  572.666667  769.666667   \n",
       "3  2015-02-02 14:22:00      23.7225    26.125  493.750000  774.750000   \n",
       "4  2015-02-02 14:23:00      23.7540    26.200  488.600000  779.000000   \n",
       "\n",
       "   HumidityRatio  Occupancy  \n",
       "0       0.004764          1  \n",
       "1       0.004773          1  \n",
       "2       0.004765          1  \n",
       "3       0.004744          1  \n",
       "4       0.004767          1  "
      ]
     },
     "execution_count": 23,
     "metadata": {},
     "output_type": "execute_result"
    }
   ],
   "source": [
    "df=pd.read_csv('Occupancy.csv')\n",
    "df.head()"
   ]
  },
  {
   "cell_type": "code",
   "execution_count": 24,
   "id": "73e1c5ec-36c9-400b-a404-9c7eefc57647",
   "metadata": {},
   "outputs": [
    {
     "data": {
      "text/html": [
       "<div>\n",
       "<style scoped>\n",
       "    .dataframe tbody tr th:only-of-type {\n",
       "        vertical-align: middle;\n",
       "    }\n",
       "\n",
       "    .dataframe tbody tr th {\n",
       "        vertical-align: top;\n",
       "    }\n",
       "\n",
       "    .dataframe thead th {\n",
       "        text-align: right;\n",
       "    }\n",
       "</style>\n",
       "<table border=\"1\" class=\"dataframe\">\n",
       "  <thead>\n",
       "    <tr style=\"text-align: right;\">\n",
       "      <th></th>\n",
       "      <th>Temperature</th>\n",
       "      <th>Humidity</th>\n",
       "      <th>Light</th>\n",
       "      <th>CO2</th>\n",
       "      <th>HumidityRatio</th>\n",
       "      <th>Occupancy</th>\n",
       "    </tr>\n",
       "  </thead>\n",
       "  <tbody>\n",
       "    <tr>\n",
       "      <th>0</th>\n",
       "      <td>23.7000</td>\n",
       "      <td>26.272</td>\n",
       "      <td>585.200000</td>\n",
       "      <td>749.200000</td>\n",
       "      <td>0.004764</td>\n",
       "      <td>1</td>\n",
       "    </tr>\n",
       "    <tr>\n",
       "      <th>1</th>\n",
       "      <td>23.7180</td>\n",
       "      <td>26.290</td>\n",
       "      <td>578.400000</td>\n",
       "      <td>760.400000</td>\n",
       "      <td>0.004773</td>\n",
       "      <td>1</td>\n",
       "    </tr>\n",
       "    <tr>\n",
       "      <th>2</th>\n",
       "      <td>23.7300</td>\n",
       "      <td>26.230</td>\n",
       "      <td>572.666667</td>\n",
       "      <td>769.666667</td>\n",
       "      <td>0.004765</td>\n",
       "      <td>1</td>\n",
       "    </tr>\n",
       "    <tr>\n",
       "      <th>3</th>\n",
       "      <td>23.7225</td>\n",
       "      <td>26.125</td>\n",
       "      <td>493.750000</td>\n",
       "      <td>774.750000</td>\n",
       "      <td>0.004744</td>\n",
       "      <td>1</td>\n",
       "    </tr>\n",
       "    <tr>\n",
       "      <th>4</th>\n",
       "      <td>23.7540</td>\n",
       "      <td>26.200</td>\n",
       "      <td>488.600000</td>\n",
       "      <td>779.000000</td>\n",
       "      <td>0.004767</td>\n",
       "      <td>1</td>\n",
       "    </tr>\n",
       "  </tbody>\n",
       "</table>\n",
       "</div>"
      ],
      "text/plain": [
       "   Temperature  Humidity       Light         CO2  HumidityRatio  Occupancy\n",
       "0      23.7000    26.272  585.200000  749.200000       0.004764          1\n",
       "1      23.7180    26.290  578.400000  760.400000       0.004773          1\n",
       "2      23.7300    26.230  572.666667  769.666667       0.004765          1\n",
       "3      23.7225    26.125  493.750000  774.750000       0.004744          1\n",
       "4      23.7540    26.200  488.600000  779.000000       0.004767          1"
      ]
     },
     "execution_count": 24,
     "metadata": {},
     "output_type": "execute_result"
    }
   ],
   "source": [
    "df=df[['Temperature','Humidity','Light','CO2','HumidityRatio','Occupancy']]\n",
    "df.head()\n"
   ]
  },
  {
   "cell_type": "code",
   "execution_count": 25,
   "id": "b61e7706-8a4f-4f62-8755-76dd17139a12",
   "metadata": {},
   "outputs": [
    {
     "name": "stdout",
     "output_type": "stream",
     "text": [
      "<class 'pandas.core.frame.DataFrame'>\n",
      "RangeIndex: 20560 entries, 0 to 20559\n",
      "Data columns (total 6 columns):\n",
      " #   Column         Non-Null Count  Dtype  \n",
      "---  ------         --------------  -----  \n",
      " 0   Temperature    20560 non-null  float64\n",
      " 1   Humidity       20560 non-null  float64\n",
      " 2   Light          20560 non-null  float64\n",
      " 3   CO2            20560 non-null  float64\n",
      " 4   HumidityRatio  20560 non-null  float64\n",
      " 5   Occupancy      20560 non-null  int64  \n",
      "dtypes: float64(5), int64(1)\n",
      "memory usage: 963.9 KB\n"
     ]
    }
   ],
   "source": [
    "df.info()"
   ]
  },
  {
   "cell_type": "code",
   "execution_count": 26,
   "id": "c04ec5b1-dfd6-406f-b213-6f8053945b54",
   "metadata": {},
   "outputs": [
    {
     "data": {
      "text/plain": [
       "Occupancy\n",
       "0    15810\n",
       "1     4750\n",
       "Name: count, dtype: int64"
      ]
     },
     "execution_count": 26,
     "metadata": {},
     "output_type": "execute_result"
    }
   ],
   "source": [
    "class_counts = df['Occupancy'].value_counts()\n",
    "class_counts"
   ]
  },
  {
   "cell_type": "code",
   "execution_count": 27,
   "id": "f40cfaee-3801-45ba-86cc-a5cee27e3215",
   "metadata": {},
   "outputs": [
    {
     "data": {
      "text/html": [
       "<div>\n",
       "<style scoped>\n",
       "    .dataframe tbody tr th:only-of-type {\n",
       "        vertical-align: middle;\n",
       "    }\n",
       "\n",
       "    .dataframe tbody tr th {\n",
       "        vertical-align: top;\n",
       "    }\n",
       "\n",
       "    .dataframe thead th {\n",
       "        text-align: right;\n",
       "    }\n",
       "</style>\n",
       "<table border=\"1\" class=\"dataframe\">\n",
       "  <thead>\n",
       "    <tr style=\"text-align: right;\">\n",
       "      <th></th>\n",
       "      <th>Temperature</th>\n",
       "      <th>Humidity</th>\n",
       "      <th>Light</th>\n",
       "      <th>CO2</th>\n",
       "      <th>HumidityRatio</th>\n",
       "      <th>Occupancy</th>\n",
       "    </tr>\n",
       "  </thead>\n",
       "  <tbody>\n",
       "    <tr>\n",
       "      <th>195</th>\n",
       "      <td>22.60</td>\n",
       "      <td>25.066667</td>\n",
       "      <td>428.333333</td>\n",
       "      <td>849.333333</td>\n",
       "      <td>0.004250</td>\n",
       "      <td>0</td>\n",
       "    </tr>\n",
       "    <tr>\n",
       "      <th>196</th>\n",
       "      <td>22.60</td>\n",
       "      <td>25.200000</td>\n",
       "      <td>422.500000</td>\n",
       "      <td>853.000000</td>\n",
       "      <td>0.004272</td>\n",
       "      <td>0</td>\n",
       "    </tr>\n",
       "    <tr>\n",
       "      <th>197</th>\n",
       "      <td>22.60</td>\n",
       "      <td>25.200000</td>\n",
       "      <td>423.666667</td>\n",
       "      <td>853.000000</td>\n",
       "      <td>0.004272</td>\n",
       "      <td>0</td>\n",
       "    </tr>\n",
       "    <tr>\n",
       "      <th>198</th>\n",
       "      <td>22.54</td>\n",
       "      <td>25.160000</td>\n",
       "      <td>424.600000</td>\n",
       "      <td>852.000000</td>\n",
       "      <td>0.004250</td>\n",
       "      <td>0</td>\n",
       "    </tr>\n",
       "    <tr>\n",
       "      <th>199</th>\n",
       "      <td>22.54</td>\n",
       "      <td>25.160000</td>\n",
       "      <td>427.400000</td>\n",
       "      <td>853.600000</td>\n",
       "      <td>0.004250</td>\n",
       "      <td>0</td>\n",
       "    </tr>\n",
       "    <tr>\n",
       "      <th>...</th>\n",
       "      <td>...</td>\n",
       "      <td>...</td>\n",
       "      <td>...</td>\n",
       "      <td>...</td>\n",
       "      <td>...</td>\n",
       "      <td>...</td>\n",
       "    </tr>\n",
       "    <tr>\n",
       "      <th>20546</th>\n",
       "      <td>20.79</td>\n",
       "      <td>26.790000</td>\n",
       "      <td>10.000000</td>\n",
       "      <td>1450.500000</td>\n",
       "      <td>0.004065</td>\n",
       "      <td>0</td>\n",
       "    </tr>\n",
       "    <tr>\n",
       "      <th>20547</th>\n",
       "      <td>20.84</td>\n",
       "      <td>26.840000</td>\n",
       "      <td>12.000000</td>\n",
       "      <td>1446.500000</td>\n",
       "      <td>0.004085</td>\n",
       "      <td>0</td>\n",
       "    </tr>\n",
       "    <tr>\n",
       "      <th>20548</th>\n",
       "      <td>20.79</td>\n",
       "      <td>26.790000</td>\n",
       "      <td>14.000000</td>\n",
       "      <td>1444.666667</td>\n",
       "      <td>0.004065</td>\n",
       "      <td>0</td>\n",
       "    </tr>\n",
       "    <tr>\n",
       "      <th>20549</th>\n",
       "      <td>20.79</td>\n",
       "      <td>26.767500</td>\n",
       "      <td>10.000000</td>\n",
       "      <td>1455.000000</td>\n",
       "      <td>0.004061</td>\n",
       "      <td>0</td>\n",
       "    </tr>\n",
       "    <tr>\n",
       "      <th>20550</th>\n",
       "      <td>20.79</td>\n",
       "      <td>26.745000</td>\n",
       "      <td>50.750000</td>\n",
       "      <td>1463.750000</td>\n",
       "      <td>0.004058</td>\n",
       "      <td>0</td>\n",
       "    </tr>\n",
       "  </tbody>\n",
       "</table>\n",
       "<p>15810 rows × 6 columns</p>\n",
       "</div>"
      ],
      "text/plain": [
       "       Temperature   Humidity       Light          CO2  HumidityRatio  \\\n",
       "195          22.60  25.066667  428.333333   849.333333       0.004250   \n",
       "196          22.60  25.200000  422.500000   853.000000       0.004272   \n",
       "197          22.60  25.200000  423.666667   853.000000       0.004272   \n",
       "198          22.54  25.160000  424.600000   852.000000       0.004250   \n",
       "199          22.54  25.160000  427.400000   853.600000       0.004250   \n",
       "...            ...        ...         ...          ...            ...   \n",
       "20546        20.79  26.790000   10.000000  1450.500000       0.004065   \n",
       "20547        20.84  26.840000   12.000000  1446.500000       0.004085   \n",
       "20548        20.79  26.790000   14.000000  1444.666667       0.004065   \n",
       "20549        20.79  26.767500   10.000000  1455.000000       0.004061   \n",
       "20550        20.79  26.745000   50.750000  1463.750000       0.004058   \n",
       "\n",
       "       Occupancy  \n",
       "195            0  \n",
       "196            0  \n",
       "197            0  \n",
       "198            0  \n",
       "199            0  \n",
       "...          ...  \n",
       "20546          0  \n",
       "20547          0  \n",
       "20548          0  \n",
       "20549          0  \n",
       "20550          0  \n",
       "\n",
       "[15810 rows x 6 columns]"
      ]
     },
     "execution_count": 27,
     "metadata": {},
     "output_type": "execute_result"
    }
   ],
   "source": [
    "class_a_data = df[df['Occupancy'] == 0]\n",
    "class_a_data"
   ]
  },
  {
   "cell_type": "code",
   "execution_count": 28,
   "id": "f398d7e0-5a3e-40a1-844c-913bc5106009",
   "metadata": {},
   "outputs": [
    {
     "data": {
      "text/plain": [
       "<Axes: xlabel='Occupancy', ylabel='count'>"
      ]
     },
     "execution_count": 28,
     "metadata": {},
     "output_type": "execute_result"
    },
    {
     "data": {
      "image/png": "[encoded data removed]",
      "text/plain": [
       "<Figure size 640x480 with 1 Axes>"
      ]
     },
     "metadata": {},
     "output_type": "display_data"
    }
   ],
   "source": [
    "sns.countplot(x=\"Occupancy\", data=df)"
   ]
  },
  {
   "cell_type": "code",
   "execution_count": 29,
   "id": "264b9c86-9f66-474a-82f6-3a8c6f6edcf1",
   "metadata": {},
   "outputs": [
    {
     "data": {
      "text/html": [
       "<div>\n",
       "<style scoped>\n",
       "    .dataframe tbody tr th:only-of-type {\n",
       "        vertical-align: middle;\n",
       "    }\n",
       "\n",
       "    .dataframe tbody tr th {\n",
       "        vertical-align: top;\n",
       "    }\n",
       "\n",
       "    .dataframe thead th {\n",
       "        text-align: right;\n",
       "    }\n",
       "</style>\n",
       "<table border=\"1\" class=\"dataframe\">\n",
       "  <thead>\n",
       "    <tr style=\"text-align: right;\">\n",
       "      <th></th>\n",
       "      <th>Temperature</th>\n",
       "      <th>HumidityRatio</th>\n",
       "      <th>Light</th>\n",
       "      <th>CO2</th>\n",
       "      <th>Humidity</th>\n",
       "      <th>Occupancy</th>\n",
       "    </tr>\n",
       "  </thead>\n",
       "  <tbody>\n",
       "    <tr>\n",
       "      <th>Temperature</th>\n",
       "      <td>1.000000</td>\n",
       "      <td>0.205280</td>\n",
       "      <td>0.688571</td>\n",
       "      <td>0.449989</td>\n",
       "      <td>-0.156964</td>\n",
       "      <td>0.555610</td>\n",
       "    </tr>\n",
       "    <tr>\n",
       "      <th>HumidityRatio</th>\n",
       "      <td>0.205280</td>\n",
       "      <td>1.000000</td>\n",
       "      <td>0.223329</td>\n",
       "      <td>0.477965</td>\n",
       "      <td>0.932724</td>\n",
       "      <td>0.257324</td>\n",
       "    </tr>\n",
       "    <tr>\n",
       "      <th>Light</th>\n",
       "      <td>0.688571</td>\n",
       "      <td>0.223329</td>\n",
       "      <td>1.000000</td>\n",
       "      <td>0.448105</td>\n",
       "      <td>-0.029459</td>\n",
       "      <td>0.914850</td>\n",
       "    </tr>\n",
       "    <tr>\n",
       "      <th>CO2</th>\n",
       "      <td>0.449989</td>\n",
       "      <td>0.477965</td>\n",
       "      <td>0.448105</td>\n",
       "      <td>1.000000</td>\n",
       "      <td>0.299746</td>\n",
       "      <td>0.501582</td>\n",
       "    </tr>\n",
       "    <tr>\n",
       "      <th>Humidity</th>\n",
       "      <td>-0.156964</td>\n",
       "      <td>0.932724</td>\n",
       "      <td>-0.029459</td>\n",
       "      <td>0.299746</td>\n",
       "      <td>1.000000</td>\n",
       "      <td>0.046240</td>\n",
       "    </tr>\n",
       "    <tr>\n",
       "      <th>Occupancy</th>\n",
       "      <td>0.555610</td>\n",
       "      <td>0.257324</td>\n",
       "      <td>0.914850</td>\n",
       "      <td>0.501582</td>\n",
       "      <td>0.046240</td>\n",
       "      <td>1.000000</td>\n",
       "    </tr>\n",
       "  </tbody>\n",
       "</table>\n",
       "</div>"
      ],
      "text/plain": [
       "               Temperature  HumidityRatio     Light       CO2  Humidity  \\\n",
       "Temperature       1.000000       0.205280  0.688571  0.449989 -0.156964   \n",
       "HumidityRatio     0.205280       1.000000  0.223329  0.477965  0.932724   \n",
       "Light             0.688571       0.223329  1.000000  0.448105 -0.029459   \n",
       "CO2               0.449989       0.477965  0.448105  1.000000  0.299746   \n",
       "Humidity         -0.156964       0.932724 -0.029459  0.299746  1.000000   \n",
       "Occupancy         0.555610       0.257324  0.914850  0.501582  0.046240   \n",
       "\n",
       "               Occupancy  \n",
       "Temperature     0.555610  \n",
       "HumidityRatio   0.257324  \n",
       "Light           0.914850  \n",
       "CO2             0.501582  \n",
       "Humidity        0.046240  \n",
       "Occupancy       1.000000  "
      ]
     },
     "metadata": {},
     "output_type": "display_data"
    },
    {
     "data": {
      "image/png": "[encoded data removed]",
      "text/plain": [
       "<Figure size 800x500 with 2 Axes>"
      ]
     },
     "metadata": {},
     "output_type": "display_data"
    }
   ],
   "source": [
    "_, axes = plt.subplots(nrows=1, ncols=1, figsize=(8, 5))\n",
    "numerical = list(set(df.columns)- {\"date\"})\n",
    "corr_matrix = df[numerical].corr()\n",
    "display(corr_matrix)\n",
    "\n",
    "sns.heatmap(corr_matrix,ax=axes);"
   ]
  },
  {
   "cell_type": "code",
   "execution_count": 30,
   "id": "5b049c58-b83e-4e79-b350-70a3887b8de1",
   "metadata": {},
   "outputs": [],
   "source": [
    "X=df.drop('Occupancy',axis=1)\n",
    "Y=df['Occupancy']\n",
    "X_train, X_test, Y_train, Y_test = train_test_split(X, Y, test_size=0.2, random_state=0)\n"
   ]
  },
  {
   "cell_type": "code",
   "execution_count": 31,
   "id": "9434772d-1b4b-42db-a666-9817aa1c9d13",
   "metadata": {},
   "outputs": [
    {
     "data": {
      "text/html": [
       "<style>#sk-container-id-2 {color: black;background-color: white;}#sk-container-id-2 pre{padding: 0;}#sk-container-id-2 div.sk-toggleable {background-color: white;}#sk-container-id-2 label.sk-toggleable__label {cursor: pointer;display: block;width: 100%;margin-bottom: 0;padding: 0.3em;box-sizing: border-box;text-align: center;}#sk-container-id-2 label.sk-toggleable__label-arrow:before {content: \"▸\";float: left;margin-right: 0.25em;color: #696969;}#sk-container-id-2 label.sk-toggleable__label-arrow:hover:before {color: black;}#sk-container-id-2 div.sk-estimator:hover label.sk-toggleable__label-arrow:before {color: black;}#sk-container-id-2 div.sk-toggleable__content {max-height: 0;max-width: 0;overflow: hidden;text-align: left;background-color: #f0f8ff;}#sk-container-id-2 div.sk-toggleable__content pre {margin: 0.2em;color: black;border-radius: 0.25em;background-color: #f0f8ff;}#sk-container-id-2 input.sk-toggleable__control:checked~div.sk-toggleable__content {max-height: 200px;max-width: 100%;overflow: auto;}#sk-container-id-2 input.sk-toggleable__control:checked~label.sk-toggleable__label-arrow:before {content: \"▾\";}#sk-container-id-2 div.sk-estimator input.sk-toggleable__control:checked~label.sk-toggleable__label {background-color: #d4ebff;}#sk-container-id-2 div.sk-label input.sk-toggleable__control:checked~label.sk-toggleable__label {background-color: #d4ebff;}#sk-container-id-2 input.sk-hidden--visually {border: 0;clip: rect(1px 1px 1px 1px);clip: rect(1px, 1px, 1px, 1px);height: 1px;margin: -1px;overflow: hidden;padding: 0;position: absolute;width: 1px;}#sk-container-id-2 div.sk-estimator {font-family: monospace;background-color: #f0f8ff;border: 1px dotted black;border-radius: 0.25em;box-sizing: border-box;margin-bottom: 0.5em;}#sk-container-id-2 div.sk-estimator:hover {background-color: #d4ebff;}#sk-container-id-2 div.sk-parallel-item::after {content: \"\";width: 100%;border-bottom: 1px solid gray;flex-grow: 1;}#sk-container-id-2 div.sk-label:hover label.sk-toggleable__label {background-color: #d4ebff;}#sk-container-id-2 div.sk-serial::before {content: \"\";position: absolute;border-left: 1px solid gray;box-sizing: border-box;top: 0;bottom: 0;left: 50%;z-index: 0;}#sk-container-id-2 div.sk-serial {display: flex;flex-direction: column;align-items: center;background-color: white;padding-right: 0.2em;padding-left: 0.2em;position: relative;}#sk-container-id-2 div.sk-item {position: relative;z-index: 1;}#sk-container-id-2 div.sk-parallel {display: flex;align-items: stretch;justify-content: center;background-color: white;position: relative;}#sk-container-id-2 div.sk-item::before, #sk-container-id-2 div.sk-parallel-item::before {content: \"\";position: absolute;border-left: 1px solid gray;box-sizing: border-box;top: 0;bottom: 0;left: 50%;z-index: -1;}#sk-container-id-2 div.sk-parallel-item {display: flex;flex-direction: column;z-index: 1;position: relative;background-color: white;}#sk-container-id-2 div.sk-parallel-item:first-child::after {align-self: flex-end;width: 50%;}#sk-container-id-2 div.sk-parallel-item:last-child::after {align-self: flex-start;width: 50%;}#sk-container-id-2 div.sk-parallel-item:only-child::after {width: 0;}#sk-container-id-2 div.sk-dashed-wrapped {border: 1px dashed gray;margin: 0 0.4em 0.5em 0.4em;box-sizing: border-box;padding-bottom: 0.4em;background-color: white;}#sk-container-id-2 div.sk-label label {font-family: monospace;font-weight: bold;display: inline-block;line-height: 1.2em;}#sk-container-id-2 div.sk-label-container {text-align: center;}#sk-container-id-2 div.sk-container {/* jupyter's `normalize.less` sets `[hidden] { display: none; }` but bootstrap.min.css set `[hidden] { display: none !important; }` so we also need the `!important` here to be able to override the default hidden behavior on the sphinx rendered scikit-learn.org. See: https://github.com/scikit-learn/scikit-learn/issues/21755 */display: inline-block !important;position: relative;}#sk-container-id-2 div.sk-text-repr-fallback {display: none;}</style><div id=\"sk-container-id-2\" class=\"sk-top-container\"><div class=\"sk-text-repr-fallback\"><pre>LogisticRegression()</pre><b>In a Jupyter environment, please rerun this cell to show the HTML representation or trust the notebook. <br />On GitHub, the HTML representation is unable to render, please try loading this page with nbviewer.org.</b></div><div class=\"sk-container\" hidden><div class=\"sk-item\"><div class=\"sk-estimator sk-toggleable\"><input class=\"sk-toggleable__control sk-hidden--visually\" id=\"sk-estimator-id-2\" type=\"checkbox\" checked><label for=\"sk-estimator-id-2\" class=\"sk-toggleable__label sk-toggleable__label-arrow\">LogisticRegression</label><div class=\"sk-toggleable__content\"><pre>LogisticRegression()</pre></div></div></div></div></div>"
      ],
      "text/plain": [
       "LogisticRegression()"
      ]
     },
     "execution_count": 31,
     "metadata": {},
     "output_type": "execute_result"
    }
   ],
   "source": [
    "###Logistic regression\n",
    "log_reg = LogisticRegression()\n",
    "log_reg.fit(X_train,Y_train)"
   ]
  },
  {
   "cell_type": "code",
   "execution_count": 32,
   "id": "7507eb2c-3bab-4686-bb47-39bd1e47a867",
   "metadata": {},
   "outputs": [
    {
     "name": "stdout",
     "output_type": "stream",
     "text": [
      "Accuracy of  Logistic Regression  Classifier on test set: 98.589494%\n"
     ]
    }
   ],
   "source": [
    "modelTitle='Logistic Regression'\n",
    "print('Accuracy of ',modelTitle,' Classifier on test set: {:.6f}%'.format((log_reg.score(X_test, Y_test)*100)))"
   ]
  },
  {
   "cell_type": "code",
   "execution_count": 33,
   "id": "ab225822-8dbe-4e92-afbb-5b8f8d713d7e",
   "metadata": {},
   "outputs": [
    {
     "name": "stdout",
     "output_type": "stream",
     "text": [
      "Accuracy of  DecisionTreeClassifier  Classifier on test set: 99.027237%\n"
     ]
    }
   ],
   "source": [
    "###DecisionTreeClassifier\n",
    "Dec_tree = DecisionTreeClassifier()\n",
    "Dec_tree.fit(X_train,Y_train)\n",
    "modelTitle='DecisionTreeClassifier'\n",
    "print('Accuracy of ',modelTitle,' Classifier on test set: {:.6f}%'.format((Dec_tree.score(X_test, Y_test)*100)))"
   ]
  },
  {
   "cell_type": "code",
   "execution_count": 34,
   "id": "f76a3753-7bcc-4fc3-81de-6e117d07fba1",
   "metadata": {},
   "outputs": [
    {
     "name": "stdout",
     "output_type": "stream",
     "text": [
      "Accuracy of  RandomForestClassifier  Classifier on test set: 99.319066%\n"
     ]
    }
   ],
   "source": [
    "###RandomForestClassifier\n",
    "rand_forest = RandomForestClassifier(n_estimators= 10)\n",
    "rand_forest .fit(X_train,Y_train)\n",
    "modelTitle='RandomForestClassifier'\n",
    "print('Accuracy of ',modelTitle,' Classifier on test set: {:.6f}%'.format((rand_forest .score(X_test, Y_test)*100)))"
   ]
  },
  {
   "cell_type": "code",
   "execution_count": 35,
   "id": "8705ace5-d3e6-4314-80f3-2cbc33912528",
   "metadata": {},
   "outputs": [
    {
     "name": "stdout",
     "output_type": "stream",
     "text": [
      "Accuracy of  Naive Bayes  Classifier on test set: 96.376459%\n"
     ]
    }
   ],
   "source": [
    "###Naive Bayes\n",
    "nave = GaussianNB()\n",
    "nave .fit(X_train,Y_train)\n",
    "modelTitle='Naive Bayes'\n",
    "print('Accuracy of ',modelTitle,' Classifier on test set: {:.6f}%'.format((nave .score(X_test, Y_test)*100)))"
   ]
  },
  {
   "cell_type": "code",
   "execution_count": 36,
   "id": "3ac6fb2b-4fe9-47a0-953f-ebd3afe8659c",
   "metadata": {},
   "outputs": [
    {
     "name": "stdout",
     "output_type": "stream",
     "text": [
      "Accuracy of  Support Vector Machine  Classifier on test set: 98.589494%\n"
     ]
    }
   ],
   "source": [
    "###Support Vector Machine\n",
    "support = SVC(probability=True)\n",
    "support .fit(X_train,Y_train)\n",
    "modelTitle='Support Vector Machine'\n",
    "print('Accuracy of ',modelTitle,' Classifier on test set: {:.6f}%'.format((support .score(X_test, Y_test)*100)))"
   ]
  },
  {
   "cell_type": "code",
   "execution_count": 37,
   "id": "17a6cb1f-9e13-420b-98a7-09e4bce2b2c2",
   "metadata": {},
   "outputs": [
    {
     "data": {
      "text/plain": [
       "(array([0, 0, 0, ..., 1, 0, 0], dtype=int64),\n",
       " 14756    0\n",
       " 19000    0\n",
       " 18894    0\n",
       " 8541     0\n",
       " 9602     0\n",
       "         ..\n",
       " 15431    0\n",
       " 3722     1\n",
       " 9714     1\n",
       " 8051     0\n",
       " 6045     0\n",
       " Name: Occupancy, Length: 4112, dtype: int64)"
      ]
     },
     "execution_count": 37,
     "metadata": {},
     "output_type": "execute_result"
    }
   ],
   "source": [
    "y_pred=support.predict(X_test)\n",
    "y_pred,Y_test"
   ]
  },
  {
   "cell_type": "code",
   "execution_count": 38,
   "id": "d6a05302-841c-438f-8e50-a12aa13bd6a6",
   "metadata": {},
   "outputs": [
    {
     "data": {
      "text/html": [
       "<div>\n",
       "<style scoped>\n",
       "    .dataframe tbody tr th:only-of-type {\n",
       "        vertical-align: middle;\n",
       "    }\n",
       "\n",
       "    .dataframe tbody tr th {\n",
       "        vertical-align: top;\n",
       "    }\n",
       "\n",
       "    .dataframe thead th {\n",
       "        text-align: right;\n",
       "    }\n",
       "</style>\n",
       "<table border=\"1\" class=\"dataframe\">\n",
       "  <thead>\n",
       "    <tr style=\"text-align: right;\">\n",
       "      <th></th>\n",
       "      <th>Temperature</th>\n",
       "      <th>Humidity</th>\n",
       "      <th>Light</th>\n",
       "      <th>CO2</th>\n",
       "      <th>HumidityRatio</th>\n",
       "    </tr>\n",
       "  </thead>\n",
       "  <tbody>\n",
       "    <tr>\n",
       "      <th>0</th>\n",
       "      <td>23.7000</td>\n",
       "      <td>26.2720</td>\n",
       "      <td>585.200000</td>\n",
       "      <td>749.200000</td>\n",
       "      <td>0.004764</td>\n",
       "    </tr>\n",
       "    <tr>\n",
       "      <th>1</th>\n",
       "      <td>23.7180</td>\n",
       "      <td>26.2900</td>\n",
       "      <td>578.400000</td>\n",
       "      <td>760.400000</td>\n",
       "      <td>0.004773</td>\n",
       "    </tr>\n",
       "    <tr>\n",
       "      <th>2</th>\n",
       "      <td>23.7300</td>\n",
       "      <td>26.2300</td>\n",
       "      <td>572.666667</td>\n",
       "      <td>769.666667</td>\n",
       "      <td>0.004765</td>\n",
       "    </tr>\n",
       "    <tr>\n",
       "      <th>3</th>\n",
       "      <td>23.7225</td>\n",
       "      <td>26.1250</td>\n",
       "      <td>493.750000</td>\n",
       "      <td>774.750000</td>\n",
       "      <td>0.004744</td>\n",
       "    </tr>\n",
       "    <tr>\n",
       "      <th>4</th>\n",
       "      <td>23.7540</td>\n",
       "      <td>26.2000</td>\n",
       "      <td>488.600000</td>\n",
       "      <td>779.000000</td>\n",
       "      <td>0.004767</td>\n",
       "    </tr>\n",
       "    <tr>\n",
       "      <th>...</th>\n",
       "      <td>...</td>\n",
       "      <td>...</td>\n",
       "      <td>...</td>\n",
       "      <td>...</td>\n",
       "      <td>...</td>\n",
       "    </tr>\n",
       "    <tr>\n",
       "      <th>20555</th>\n",
       "      <td>20.8150</td>\n",
       "      <td>27.7175</td>\n",
       "      <td>429.750000</td>\n",
       "      <td>1505.250000</td>\n",
       "      <td>0.004213</td>\n",
       "    </tr>\n",
       "    <tr>\n",
       "      <th>20556</th>\n",
       "      <td>20.8650</td>\n",
       "      <td>27.7450</td>\n",
       "      <td>423.500000</td>\n",
       "      <td>1514.500000</td>\n",
       "      <td>0.004230</td>\n",
       "    </tr>\n",
       "    <tr>\n",
       "      <th>20557</th>\n",
       "      <td>20.8900</td>\n",
       "      <td>27.7450</td>\n",
       "      <td>423.500000</td>\n",
       "      <td>1521.500000</td>\n",
       "      <td>0.004237</td>\n",
       "    </tr>\n",
       "    <tr>\n",
       "      <th>20558</th>\n",
       "      <td>20.8900</td>\n",
       "      <td>28.0225</td>\n",
       "      <td>418.750000</td>\n",
       "      <td>1632.000000</td>\n",
       "      <td>0.004279</td>\n",
       "    </tr>\n",
       "    <tr>\n",
       "      <th>20559</th>\n",
       "      <td>21.0000</td>\n",
       "      <td>28.1000</td>\n",
       "      <td>409.000000</td>\n",
       "      <td>1864.000000</td>\n",
       "      <td>0.004321</td>\n",
       "    </tr>\n",
       "  </tbody>\n",
       "</table>\n",
       "<p>20560 rows × 5 columns</p>\n",
       "</div>"
      ],
      "text/plain": [
       "       Temperature  Humidity       Light          CO2  HumidityRatio\n",
       "0          23.7000   26.2720  585.200000   749.200000       0.004764\n",
       "1          23.7180   26.2900  578.400000   760.400000       0.004773\n",
       "2          23.7300   26.2300  572.666667   769.666667       0.004765\n",
       "3          23.7225   26.1250  493.750000   774.750000       0.004744\n",
       "4          23.7540   26.2000  488.600000   779.000000       0.004767\n",
       "...            ...       ...         ...          ...            ...\n",
       "20555      20.8150   27.7175  429.750000  1505.250000       0.004213\n",
       "20556      20.8650   27.7450  423.500000  1514.500000       0.004230\n",
       "20557      20.8900   27.7450  423.500000  1521.500000       0.004237\n",
       "20558      20.8900   28.0225  418.750000  1632.000000       0.004279\n",
       "20559      21.0000   28.1000  409.000000  1864.000000       0.004321\n",
       "\n",
       "[20560 rows x 5 columns]"
      ]
     },
     "execution_count": 38,
     "metadata": {},
     "output_type": "execute_result"
    }
   ],
   "source": [
    "X"
   ]
  },
  {
   "cell_type": "code",
   "execution_count": 39,
   "id": "7af5ac88-b0a8-4215-9f15-5856cd7f5835",
   "metadata": {},
   "outputs": [],
   "source": [
    "import pickle\n",
    "rand={'model':rand_forest}\n",
    "sup={'model':support}\n",
    "log={'model':log_reg}\n",
    "dec={'model':Dec_tree}\n",
    "nave={'model':nave}\n",
    "\n",
    "with open('saved_pikle.pkl','wb') as file:\n",
    "    pickle.dump(rand, file)\n",
    "    pickle.dump(sup, file)\n",
    "    pickle.dump(log, file)\n",
    "    pickle.dump(dec, file)\n",
    "    pickle.dump(nave, file)\n",
    "    "
   ]
  },
  {
   "cell_type": "code",
   "execution_count": 40,
   "id": "ecb6aae3-ff00-4e39-9303-827e82e13ca9",
   "metadata": {},
   "outputs": [],
   "source": [
    "with open('saved_pikle.pkl','rb') as file:\n",
    "    data=pickle.load(file)\n",
    "model_loaded=data['model']"
   ]
  },
  {
   "cell_type": "code",
   "execution_count": 41,
   "id": "c61d552d-41d7-4b9e-b556-5717b779dd78",
   "metadata": {},
   "outputs": [
    {
     "data": {
      "text/plain": [
       "array([0, 0, 0, ..., 1, 0, 0], dtype=int64)"
      ]
     },
     "execution_count": 41,
     "metadata": {},
     "output_type": "execute_result"
    }
   ],
   "source": [
    "y_pred=model_loaded.predict(X_test)\n",
    "y_pred"
   ]
  },
  {
   "cell_type": "code",
   "execution_count": null,
   "id": "ecc292f2-589b-4e35-bae6-2065029ef3a4",
   "metadata": {},
   "outputs": [],
   "source": []
  }
 ],
 "metadata": {
  "kernelspec": {
   "display_name": "Python 3 (ipykernel)",
   "language": "python",
   "name": "python3"
  },
  "language_info": {
   "codemirror_mode": {
    "name": "ipython",
    "version": 3
   },
   "file_extension": ".py",
   "mimetype": "text/x-python",
   "name": "python",
   "nbconvert_exporter": "python",
   "pygments_lexer": "ipython3",
   "version": "3.11.7"
  }
 },
 "nbformat": 4,
 "nbformat_minor": 5
}
